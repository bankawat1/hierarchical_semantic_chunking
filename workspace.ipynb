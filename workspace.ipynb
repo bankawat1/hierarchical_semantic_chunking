{
 "cells": [
  {
   "cell_type": "markdown",
   "id": "34c67bb0",
   "metadata": {
    "vscode": {
     "languageId": "plaintext"
    }
   },
   "source": [
    "# "
   ]
  },
  {
   "cell_type": "markdown",
   "id": "cfdf9cce",
   "metadata": {},
   "source": [
    "# Test"
   ]
  },
  {
   "cell_type": "markdown",
   "id": "cb830280",
   "metadata": {},
   "source": []
  },
  {
   "cell_type": "markdown",
   "id": "c6d43775",
   "metadata": {},
   "source": [
    "import pandas as pd\n",
    "import numpy as np"
   ]
  }
 ],
 "metadata": {
  "language_info": {
   "name": "python"
  }
 },
 "nbformat": 4,
 "nbformat_minor": 5
}
